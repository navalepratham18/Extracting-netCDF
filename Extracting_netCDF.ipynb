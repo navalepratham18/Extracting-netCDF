{
  "nbformat": 4,
  "nbformat_minor": 0,
  "metadata": {
    "colab": {
      "provenance": [],
      "mount_file_id": "1BKO2zpls1U-UMNDADrvoAMXeMpS2RX6A",
      "authorship_tag": "ABX9TyOz1lwE5iEOajsXZVbFpvv9",
      "include_colab_link": true
    },
    "kernelspec": {
      "name": "python3",
      "display_name": "Python 3"
    },
    "language_info": {
      "name": "python"
    }
  },
  "cells": [
    {
      "cell_type": "markdown",
      "metadata": {
        "id": "view-in-github",
        "colab_type": "text"
      },
      "source": [
        "<a href=\"https://colab.research.google.com/github/navalepratham18/Extracting-netCDF/blob/main/Extracting_netCDF.ipynb\" target=\"_parent\"><img src=\"https://colab.research.google.com/assets/colab-badge.svg\" alt=\"Open In Colab\"/></a>"
      ]
    },
    {
      "cell_type": "code",
      "execution_count": null,
      "metadata": {
        "colab": {
          "base_uri": "https://localhost:8080/"
        },
        "id": "pIOSVUjMuRf7",
        "outputId": "1dbf915e-888c-41c5-96e7-f00e6cecffbb"
      },
      "outputs": [
        {
          "output_type": "stream",
          "name": "stdout",
          "text": [
            "Opening NetCDF file: /content/drive/MyDrive/data/tempsal.nc...\n",
            "File opened successfully.\n",
            "Converting to DataFrame...\n",
            "Conversion successful.\n",
            "Saving data to CSV file: /content/drive/MyDrive/data/output_file.csv...\n",
            "Successfully converted NetCDF to CSV!\n"
          ]
        }
      ],
      "source": [
        "import xarray as xr\n",
        "\n",
        "# --- 1. SET YOUR FILENAMES HERE ---\n",
        "netcdf_file = '/tempsal.nc'   # Change this to your NetCDF filename\n",
        "csv_file = '/output_file.csv'         # Change this to your desired output CSV filename\n",
        "\n",
        "try:\n",
        "    # --- 2. OPEN THE NETCDF FILE ---\n",
        "    # xarray opens the file and loads the data into a Dataset object.\n",
        "    print(f\"Opening NetCDF file: {netcdf_file}...\")\n",
        "    dataset = xr.open_dataset(netcdf_file)\n",
        "    print(\"File opened successfully.\")\n",
        "\n",
        "    # --- 3. CONVERT TO A PANDAS DATAFRAME ---\n",
        "    # .to_dataframe() intelligently flattens the multi-dimensional data\n",
        "    # into a 2D table format suitable for CSV.\n",
        "    print(\"Converting to DataFrame...\")\n",
        "    df = dataset.to_dataframe()\n",
        "    print(\"Conversion successful.\")\n",
        "\n",
        "    # Optional: Reset the index if the coordinates are part of the index\n",
        "    # This makes columns like 'time', 'latitude', 'longitude' regular columns.\n",
        "    df = df.reset_index()\n",
        "\n",
        "    # --- 4. SAVE TO CSV ---\n",
        "    # .to_csv() saves the DataFrame to the specified file.\n",
        "    # index=False prevents pandas from writing the DataFrame index as a column.\n",
        "    print(f\"Saving data to CSV file: {csv_file}...\")\n",
        "    df.to_csv(csv_file, index=False)\n",
        "    print(\"Successfully converted NetCDF to CSV!\")\n",
        "\n",
        "except FileNotFoundError:\n",
        "    print(f\"Error: The file '{netcdf_file}' was not found. Please make sure it's in the same directory as the script.\")\n",
        "except Exception as e:\n",
        "    print(f\"An unexpected error occurred: {e}\")"
      ]
    }
  ]
}